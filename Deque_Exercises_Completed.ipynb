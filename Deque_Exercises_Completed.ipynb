{
 "cells": [
  {
   "cell_type": "markdown",
   "id": "7e87d4c2",
   "metadata": {},
   "source": [
    "## 문제 01: ListQueue를 큐의 front와 tail을 바꾸어 구현하기"
   ]
  },
  {
   "cell_type": "code",
   "execution_count": null,
   "id": "585a6874",
   "metadata": {},
   "outputs": [],
   "source": [
    "class ListQueue:\n",
    "    def __init__(self):\n",
    "        self.__queue = []\n",
    "\n",
    "    def enqueue(self, x):\n",
    "        self.__queue.insert(0, x)  # 리스트의 앞에 추가\n",
    "\n",
    "    def dequeue(self):\n",
    "        return self.__queue.pop()  # 리스트의 맨 뒤에서 제거\n",
    "\n",
    "    def front(self):\n",
    "        return self.__queue[-1]\n",
    "\n",
    "    def isEmpty(self) -> bool:\n",
    "        return len(self.__queue) == 0\n",
    "\n",
    "    def dequeueAll(self):\n",
    "        self.__queue.clear()\n",
    "\n",
    "    def printQueue(self):\n",
    "        print(\"Queue from front:\", end=' ')\n",
    "        for i in range(len(self.__queue)-1, -1, -1):\n",
    "            print(self.__queue[i], end=' ')\n",
    "        print()\n"
   ]
  },
  {
   "cell_type": "markdown",
   "id": "e463033b",
   "metadata": {},
   "source": [
    "## 문제 06: Deque 구현하기"
   ]
  },
  {
   "cell_type": "code",
   "execution_count": null,
   "id": "cc7a5d54",
   "metadata": {},
   "outputs": [],
   "source": [
    "class Deque:\n",
    "    def __init__(self):\n",
    "        self.__deque = []\n",
    "\n",
    "    def addFront(self, item):\n",
    "        self.__deque.insert(0, item)\n",
    "\n",
    "    def addRear(self, item):\n",
    "        self.__deque.append(item)\n",
    "\n",
    "    def removeFront(self):\n",
    "        return self.__deque.pop(0)\n",
    "\n",
    "    def removeRear(self):\n",
    "        return self.__deque.pop()\n",
    "\n",
    "    def isEmpty(self):\n",
    "        return len(self.__deque) == 0\n",
    "\n",
    "    def size(self):\n",
    "        return len(self.__deque)\n",
    "\n",
    "    def clear(self):\n",
    "        self.__deque.clear()\n",
    "\n",
    "    def printDeque(self):\n",
    "        print(\"Deque:\", self.__deque)\n"
   ]
  },
  {
   "cell_type": "markdown",
   "id": "0e2cb0d4",
   "metadata": {},
   "source": [
    "## 문제 02: 회문 검사"
   ]
  },
  {
   "cell_type": "code",
   "execution_count": null,
   "id": "7270ee70",
   "metadata": {},
   "outputs": [],
   "source": [
    "from collections import deque\n",
    "\n",
    "def is_palindrome(s):\n",
    "    q = deque()\n",
    "    for ch in s:\n",
    "        q.append(ch)\n",
    "    while len(q) > 1:\n",
    "        if q.popleft() != q.pop():\n",
    "            return False\n",
    "    return True\n",
    "\n",
    "# 테스트\n",
    "print(is_palindrome(\"wow\"))   # True\n",
    "print(is_palindrome(\"word\"))  # False\n"
   ]
  },
  {
   "cell_type": "markdown",
   "id": "a67d3ab8",
   "metadata": {},
   "source": [
    "## 문제 03: LinkedQueue 복사"
   ]
  },
  {
   "cell_type": "code",
   "execution_count": null,
   "id": "4f91ccd1",
   "metadata": {},
   "outputs": [],
   "source": [
    "class Node:\n",
    "    def __init__(self, data, next=None):\n",
    "        self.data = data\n",
    "        self.next = next\n",
    "\n",
    "class LinkedQueue:\n",
    "    def __init__(self):\n",
    "        self.front = None\n",
    "        self.rear = None\n",
    "\n",
    "    def enqueue(self, item):\n",
    "        new_node = Node(item)\n",
    "        if self.rear:\n",
    "            self.rear.next = new_node\n",
    "        else:\n",
    "            self.front = new_node\n",
    "        self.rear = new_node\n",
    "\n",
    "    def dequeue(self):\n",
    "        if not self.front:\n",
    "            return None\n",
    "        item = self.front.data\n",
    "        self.front = self.front.next\n",
    "        if self.front is None:\n",
    "            self.rear = None\n",
    "        return item\n",
    "\n",
    "    def isEmpty(self):\n",
    "        return self.front is None\n",
    "\n",
    "    def copy(self):\n",
    "        copied = LinkedQueue()\n",
    "        current = self.front\n",
    "        while current:\n",
    "            copied.enqueue(current.data)\n",
    "            current = current.next\n",
    "        return copied\n"
   ]
  },
  {
   "cell_type": "markdown",
   "id": "14e0e36f",
   "metadata": {},
   "source": [
    "## 문제 04: 두 개의 스택으로 큐 push/pop 구현"
   ]
  },
  {
   "cell_type": "code",
   "execution_count": null,
   "id": "6868394d",
   "metadata": {},
   "outputs": [],
   "source": [
    "class StackQueue:\n",
    "    def __init__(self):\n",
    "        self.stack1 = []\n",
    "        self.stack2 = []\n",
    "\n",
    "    def push(self, x):\n",
    "        self.stack1.append(x)\n",
    "\n",
    "    def pop(self):\n",
    "        if not self.stack2:\n",
    "            while self.stack1:\n",
    "                self.stack2.append(self.stack1.pop())\n",
    "        return self.stack2.pop() if self.stack2 else None\n"
   ]
  },
  {
   "cell_type": "markdown",
   "id": "707e86a0",
   "metadata": {},
   "source": [
    "## 문제 05: 두 개의 스택으로 큐 enqueue/dequeue 구현"
   ]
  },
  {
   "cell_type": "code",
   "execution_count": null,
   "id": "21562685",
   "metadata": {},
   "outputs": [],
   "source": [
    "class QueueUsingStacks:\n",
    "    def __init__(self):\n",
    "        self.inbox = []\n",
    "        self.outbox = []\n",
    "\n",
    "    def enqueue(self, item):\n",
    "        self.inbox.append(item)\n",
    "\n",
    "    def dequeue(self):\n",
    "        if not self.outbox:\n",
    "            while self.inbox:\n",
    "                self.outbox.append(self.inbox.pop())\n",
    "        return self.outbox.pop() if self.outbox else None\n"
   ]
  },
  {
   "cell_type": "markdown",
   "id": "92964716",
   "metadata": {},
   "source": [
    "## 문제 07: 연결 리스트로 구현 시 시간 복잡도 분석"
   ]
  },
  {
   "cell_type": "markdown",
   "id": "9e16fde8",
   "metadata": {},
   "source": [
    "## 문제 07 분석\n",
    "\n",
    "Deque를 배열이 아닌 연결 리스트로 구현하면 다음과 같은 시간 복잡도를 갖는다:\n",
    "\n",
    "- `enqueue()`: 연결 리스트의 뒤에 삽입하는 경우 → **O(1)**\n",
    "- `dequeue()`: 연결 리스트의 앞에서 제거하는 경우 → **O(1)**\n",
    "\n",
    "단, 양방향 연결 리스트로 구현되어야 양쪽에서 O(1) 연산이 가능하다.\n"
   ]
  }
 ],
 "metadata": {},
 "nbformat": 4,
 "nbformat_minor": 5
}
