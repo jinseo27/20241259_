{
 "cells": [
  {
   "cell_type": "markdown",
   "id": "b5c3b0e5",
   "metadata": {},
   "source": [
    "## LeetCode 225. Implement Stack using Queues\n",
    "이 문제는 큐 자료구조 2개를 이용하여 스택을 구현하는 문제입니다.\n",
    "스택은 LIFO, 큐는 FIFO 구조이기 때문에 큐를 이용해 스택을 만들기 위해서는 push 시 큐의 순서를 바꾸는 로직이 필요합니다."
   ]
  },
  {
   "cell_type": "code",
   "execution_count": null,
   "id": "336415b1",
   "metadata": {},
   "outputs": [],
   "source": [
    "from collections import deque\n",
    "\n",
    "class MyStack:\n",
    "    def __init__(self):\n",
    "        self.q1 = deque()\n",
    "        self.q2 = deque()\n",
    "\n",
    "    def push(self, x: int) -> None:\n",
    "        self.q2.append(x)\n",
    "        while self.q1:\n",
    "            self.q2.append(self.q1.popleft())\n",
    "        self.q1, self.q2 = self.q2, self.q1\n",
    "\n",
    "    def pop(self) -> int:\n",
    "        return self.q1.popleft()\n",
    "\n",
    "    def top(self) -> int:\n",
    "        return self.q1[0]\n",
    "\n",
    "    def empty(self) -> bool:\n",
    "        return not self.q1"
   ]
  },
  {
   "cell_type": "markdown",
   "id": "c76c3a73",
   "metadata": {},
   "source": [
    "## LeetCode 232. Implement Queue using Stacks\n",
    "이 문제는 스택 2개를 이용하여 큐를 구현하는 문제입니다.\n",
    "enqueue 시에는 stack_in에 삽입하고, dequeue 시에는 stack_out에 뒤집어서 넣어 순서를 맞춥니다."
   ]
  },
  {
   "cell_type": "code",
   "execution_count": null,
   "id": "0991bec9",
   "metadata": {},
   "outputs": [],
   "source": [
    "class MyQueue:\n",
    "    def __init__(self):\n",
    "        self.stack_in = []\n",
    "        self.stack_out = []\n",
    "\n",
    "    def push(self, x: int) -> None:\n",
    "        self.stack_in.append(x)\n",
    "\n",
    "    def pop(self) -> int:\n",
    "        self.peek()\n",
    "        return self.stack_out.pop()\n",
    "\n",
    "    def peek(self) -> int:\n",
    "        if not self.stack_out:\n",
    "            while self.stack_in:\n",
    "                self.stack_out.append(self.stack_in.pop())\n",
    "        return self.stack_out[-1]\n",
    "\n",
    "    def empty(self) -> bool:\n",
    "        return not self.stack_in and not self.stack_out"
   ]
  }
 ],
 "metadata": {},
 "nbformat": 4,
 "nbformat_minor": 5
}
