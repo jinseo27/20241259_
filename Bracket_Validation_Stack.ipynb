{
 "cells": [
  {
   "cell_type": "markdown",
   "id": "d91f7c34",
   "metadata": {},
   "source": [
    "## 스택을 활용한 괄호 검사\n",
    "주어진 문자열에서 괄호의 열림 '(' 과 닫힘 ')' 이 올바르게 짝을 이루는지 확인하는 문제입니다.\n",
    "스택을 이용하여 여는 괄호를 저장하고, 닫는 괄호가 나올 때 짝이 맞는지 확인합니다."
   ]
  },
  {
   "cell_type": "code",
   "execution_count": null,
   "id": "13ad13a6",
   "metadata": {},
   "outputs": [],
   "source": [
    "def is_valid_parentheses(s):\n",
    "    stack = []\n",
    "    for char in s:\n",
    "        if char == '(':  # 여는 괄호일 경우 스택에 push\n",
    "            stack.append(char)\n",
    "        elif char == ')':  # 닫는 괄호일 경우 스택이 비어있지 않으면 pop\n",
    "            if not stack:\n",
    "                return False  # 짝이 맞지 않음\n",
    "            stack.pop()\n",
    "    return len(stack) == 0  # 스택이 비어있으면 모든 괄호가 짝이 맞음\n",
    "\n",
    "# 테스트 예시\n",
    "print(is_valid_parentheses('(())'))  # True\n",
    "print(is_valid_parentheses('(()'))   # False\n",
    "print(is_valid_parentheses('())('))  # False"
   ]
  }
 ],
 "metadata": {},
 "nbformat": 4,
 "nbformat_minor": 5
}
