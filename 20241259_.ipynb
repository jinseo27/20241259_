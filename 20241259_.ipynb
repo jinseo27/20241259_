{
 "cells": [
  {
   "cell_type": "markdown",
   "id": "df311505",
   "metadata": {},
   "source": [
    "# LeetCode 225 & LeetCode232 & 교재의 큐 연습문제"
   ]
  },
  {
   "cell_type": "markdown",
   "id": "b5c3b0e5",
   "metadata": {},
   "source": [
    "## LeetCode 225. Implement Stack using Queues\n",
    "스택은 LIFO, 큐는 FIFO 구조. push 시 큐의 순서를 LIFO로 바꾸는 로직이 필요."
   ]
  },
  {
   "cell_type": "code",
   "execution_count": null,
   "id": "336415b1",
   "metadata": {},
   "outputs": [],
   "source": [
    "class MyStack:\n",
    "    def __init__(self):\n",
    "        self.q1 = []\n",
    "        self.q2 = []\n",
    "\n",
    "    def push(self, x: int) -> None:\n",
    "        self.q2.append(x)\n",
    "        while self.q1:\n",
    "            self.q2.append(self.q1.pop(0))\n",
    "        self.q1, self.q2 = self.q2, self.q1\n",
    "\n",
    "    def pop(self) -> int:\n",
    "        return self.q1.pop(0)\n",
    "\n",
    "    def top(self) -> int:\n",
    "        return self.q1[0]\n",
    "\n",
    "    def empty(self) -> bool:\n",
    "        return len(self.q1) == 0\n"
   ]
  },
  {
   "cell_type": "markdown",
   "id": "c76c3a73",
   "metadata": {},
   "source": [
    "## LeetCode 232. Implement Queue using Stacks  \n",
    "`stack_out`이 비었을 때만 `stack_in`의 데이터를 옮겨 순서를 반전시켜 큐처럼 동작."
   ]
  },
  {
   "cell_type": "code",
   "execution_count": null,
   "id": "0991bec9",
   "metadata": {},
   "outputs": [],
   "source": [
    "class MyQueue:\n",
    "    def __init__(self):\n",
    "        self.stack_in = []\n",
    "        self.stack_out = []\n",
    "\n",
    "    def push(self, x: int) -> None:\n",
    "        self.stack_in.append(x)\n",
    "\n",
    "    def pop(self) -> int:\n",
    "        self.peek()\n",
    "        return self.stack_out.pop()\n",
    "\n",
    "    def peek(self) -> int:\n",
    "        if not self.stack_out:\n",
    "            while self.stack_in:\n",
    "                self.stack_out.append(self.stack_in.pop())\n",
    "        return self.stack_out[-1]\n",
    "\n",
    "    def empty(self) -> bool:\n",
    "        return not self.stack_in and not self.stack_out"
   ]
  },
  {
   "cell_type": "markdown",
   "id": "f12c8f40",
   "metadata": {},
   "source": [
    "# 교재의 큐 연습문제"
   ]
  },
  {
   "cell_type": "markdown",
   "id": "58816c6d",
   "metadata": {},
   "source": [
    "# 문제 1번부터 8번까지 연습문제"
   ]
  },
  {
   "cell_type": "markdown",
   "id": "422cc661",
   "metadata": {},
   "source": [
    "## 문제 1"
   ]
  },
  {
   "cell_type": "code",
   "execution_count": null,
   "id": "7bb2cb5a",
   "metadata": {},
   "outputs": [],
   "source": [
    "class ListQueue:\n",
    "    def __init__(self):\n",
    "        self.__queue = []\n",
    "\n",
    "    def enqueue(self, x):\n",
    "        self.__queue.insert(0, x) \n",
    "\n",
    "    def dequeue(self):\n",
    "        return self.__queue.pop() \n",
    "\n",
    "    def front(self):\n",
    "        return self.__queue[-1] if not self.isEmpty() else None\n",
    "\n",
    "    def isEmpty(self) -> bool:\n",
    "        return len(self.__queue) == 0\n",
    "\n",
    "    def dequeueAll(self):\n",
    "        self.__queue.clear()\n"
   ]
  },
  {
   "cell_type": "markdown",
   "id": "fb00d9a8",
   "metadata": {},
   "source": [
    "## 문제 2"
   ]
  },
  {
   "cell_type": "code",
   "execution_count": null,
   "id": "e7c47e0c",
   "metadata": {},
   "outputs": [],
   "source": [
    "class MyStack:\n",
    "    def __init__(self):\n",
    "        self.q1 = []\n",
    "        self.q2 = []\n",
    "\n",
    "    def push(self, x: int) -> None:\n",
    "        self.q2.append(x)\n",
    "        while self.q1:\n",
    "            self.q2.append(self.q1.pop(0))\n",
    "        self.q1, self.q2 = self.q2, self.q1\n",
    "\n",
    "    def pop(self) -> int:\n",
    "        return self.q1.pop(0)\n",
    "\n",
    "    def top(self) -> int:\n",
    "        return self.q1[0]\n",
    "\n",
    "    def empty(self) -> bool:\n",
    "        return len(self.q1) == 0\n"
   ]
  },
  {
   "cell_type": "markdown",
   "id": "92d3290c",
   "metadata": {},
   "source": [
    "## 문제 3"
   ]
  },
  {
   "cell_type": "code",
   "execution_count": null,
   "id": "37d9aac2",
   "metadata": {},
   "outputs": [],
   "source": [
    "class LinkedNode:\n",
    "    def __init__(self, item, link=None):\n",
    "        self.item = item\n",
    "        self.link = link\n",
    "\n",
    "class LinkedQueue:\n",
    "    def __init__(self):\n",
    "        self.front = self.rear = None\n",
    "\n",
    "    def isEmpty(self):\n",
    "        return self.front is None\n",
    "\n",
    "    def enqueue(self, item):\n",
    "        new_node = LinkedNode(item)\n",
    "        if self.isEmpty():\n",
    "            self.front = self.rear = new_node\n",
    "        else:\n",
    "            self.rear.link = new_node\n",
    "            self.rear = new_node\n",
    "\n",
    "    def dequeue(self):\n",
    "        if not self.isEmpty():\n",
    "            item = self.front.item\n",
    "            self.front = self.front.link\n",
    "            if self.front is None:\n",
    "                self.rear = None\n",
    "            return item\n",
    "\n",
    "    def clone(self):\n",
    "        new_queue = LinkedQueue()\n",
    "        current = self.front\n",
    "        while current:\n",
    "            new_queue.enqueue(current.item)\n",
    "            current = current.link\n",
    "        return new_queue\n"
   ]
  },
  {
   "cell_type": "markdown",
   "id": "bc8b2557",
   "metadata": {},
   "source": [
    "## 문제 4"
   ]
  },
  {
   "cell_type": "code",
   "execution_count": null,
   "id": "ec22e8db",
   "metadata": {},
   "outputs": [],
   "source": [
    "from collections import deque\n",
    "\n",
    "class StackUsingQueues:\n",
    "    def __init__(self):\n",
    "        self.q1 = deque()\n",
    "        self.q2 = deque()\n",
    "\n",
    "    def push(self, x):\n",
    "        self.q2.append(x)\n",
    "        while self.q1:\n",
    "            self.q2.append(self.q1.popleft())\n",
    "        self.q1, self.q2 = self.q2, self.q1\n",
    "\n",
    "    def pop(self):\n",
    "        return self.q1.popleft() if self.q1 else None\n"
   ]
  },
  {
   "cell_type": "markdown",
   "id": "63520b94",
   "metadata": {},
   "source": [
    "## 문제 5"
   ]
  },
  {
   "cell_type": "code",
   "execution_count": null,
   "id": "1448edff",
   "metadata": {},
   "outputs": [],
   "source": [
    "class QueueUsingStacks:\n",
    "    def __init__(self):\n",
    "        self.stack1 = []\n",
    "        self.stack2 = []\n",
    "\n",
    "    def enqueue(self, x):\n",
    "        self.stack1.append(x)\n",
    "\n",
    "    def dequeue(self):\n",
    "        if not self.stack2:\n",
    "            while self.stack1:\n",
    "                self.stack2.append(self.stack1.pop())\n",
    "        return self.stack2.pop() if self.stack2 else None\n"
   ]
  },
  {
   "cell_type": "markdown",
   "id": "c4a0d614",
   "metadata": {},
   "source": [
    "## 문제 6\n",
    "`enqueue()`는 `append()`로 O(1), `dequeue()`는 `pop(0)`으로 O(n)"
   ]
  },
  {
   "cell_type": "markdown",
   "id": "268e6baf",
   "metadata": {},
   "source": [
    "## 문제 7\n",
    "`enqueue()`와 `dequeue()` 둘 다 O(1) 시간으로 처리 가능.\n",
    "연결 리스트의 끝에 삽입, 앞에서 삭제."
   ]
  },
  {
   "cell_type": "markdown",
   "id": "3ca965dd",
   "metadata": {},
   "source": [
    "## 문제 8"
   ]
  },
  {
   "cell_type": "code",
   "execution_count": null,
   "id": "ade4f2ba",
   "metadata": {},
   "outputs": [],
   "source": [
    "class Deque:\n",
    "    def __init__(self):\n",
    "        self.__queue = []\n",
    "\n",
    "    def addFront(self, item):\n",
    "        self.__queue.append(item)\n",
    "\n",
    "    def addRear(self, item):\n",
    "        self.__queue.insert(0, item)\n",
    "\n",
    "    def removeFront(self):\n",
    "        return self.__queue.pop() if not self.isEmpty() else None\n",
    "\n",
    "    def removeRear(self):\n",
    "        return self.__queue.pop(0) if not self.isEmpty() else None\n",
    "\n",
    "    def isEmpty(self):\n",
    "        return len(self.__queue) == 0\n",
    "\n",
    "    def size(self):\n",
    "        return len(self.__queue)\n",
    "\n",
    "    def printDeque(self):\n",
    "        print(\"Deque from front:\", end=' ')\n",
    "        for item in reversed(self.__queue):\n",
    "            print(item, end=' ')\n",
    "        print()\n"
   ]
  }
 ],
 "metadata": {
  "language_info": {
   "name": "python"
  }
 },
 "nbformat": 4,
 "nbformat_minor": 5
}
