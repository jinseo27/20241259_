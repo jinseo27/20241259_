{
 "cells": [
  {
   "cell_type": "markdown",
   "id": "b5c3b0e5",
   "metadata": {},
   "source": [
    "## LeetCode 225. Implement Stack using Queues\n",
    "이 문제는 큐 자료구조 2개를 이용하여 스택을 구현하는 문제입니다.\n",
    "스택은 LIFO, 큐는 FIFO 구조이기 때문에 큐를 이용해 스택을 만들기 위해서는 push 시 큐의 순서를 바꾸는 로직이 필요합니다."
   ]
  },
  {
   "cell_type": "code",
   "execution_count": null,
   "id": "336415b1",
   "metadata": {},
   "outputs": [],
   "source": [
    "from collections import deque\n",
    "\n",
    "class MyStack:\n",
    "    def __init__(self):\n",
    "        self.q1 = deque()\n",
    "        self.q2 = deque()\n",
    "\n",
    "    def push(self, x: int) -> None:\n",
    "        self.q2.append(x)\n",
    "        while self.q1:\n",
    "            self.q2.append(self.q1.popleft())\n",
    "        self.q1, self.q2 = self.q2, self.q1\n",
    "\n",
    "    def pop(self) -> int:\n",
    "        return self.q1.popleft()\n",
    "\n",
    "    def top(self) -> int:\n",
    "        return self.q1[0]\n",
    "\n",
    "    def empty(self) -> bool:\n",
    "        return not self.q1"
   ]
  },
  {
   "cell_type": "markdown",
   "id": "c76c3a73",
   "metadata": {},
   "source": [
    "## LeetCode 232. Implement Queue using Stacks\n",
    "이 문제는 스택 2개를 이용하여 큐를 구현하는 문제입니다.\n",
    "enqueue 시에는 stack_in에 삽입하고, dequeue 시에는 stack_out에 뒤집어서 넣어 순서를 맞춥니다."
   ]
  },
  {
   "cell_type": "code",
   "execution_count": null,
   "id": "0991bec9",
   "metadata": {},
   "outputs": [],
   "source": [
    "class MyQueue:\n",
    "    def __init__(self):\n",
    "        self.stack_in = []\n",
    "        self.stack_out = []\n",
    "\n",
    "    def push(self, x: int) -> None:\n",
    "        self.stack_in.append(x)\n",
    "\n",
    "    def pop(self) -> int:\n",
    "        self.peek()\n",
    "        return self.stack_out.pop()\n",
    "\n",
    "    def peek(self) -> int:\n",
    "        if not self.stack_out:\n",
    "            while self.stack_in:\n",
    "                self.stack_out.append(self.stack_in.pop())\n",
    "        return self.stack_out[-1]\n",
    "\n",
    "    def empty(self) -> bool:\n",
    "        return not self.stack_in and not self.stack_out"
   ]
  },
  {
   "cell_type": "markdown",
   "id": "4bee71a2",
   "metadata": {},
   "source": [
    "### 문제 01"
   ]
  },
  {
   "cell_type": "code",
   "execution_count": null,
   "id": "26d1ad75",
   "metadata": {},
   "outputs": [],
   "source": [
    "class ListQueue:\n",
    "    def __init__(self):\n",
    "        self.__queue = []\n",
    "\n",
    "    def enqueue(self, x):\n",
    "        self.__queue.insert(0, x)  # 맨 앞에 삽입\n",
    "\n",
    "    def dequeue(self):\n",
    "        return self.__queue.pop()  # 맨 뒤에서 삭제\n",
    "\n",
    "    def front(self):\n",
    "        return self.__queue[-1]\n",
    "\n",
    "    def isEmpty(self) -> bool:\n",
    "        return len(self.__queue) == 0\n",
    "\n",
    "    def dequeueAll(self):\n",
    "        self.__queue.clear()\n"
   ]
  },
  {
   "cell_type": "markdown",
   "id": "53ec6b78",
   "metadata": {},
   "source": [
    "### 문제 02"
   ]
  },
  {
   "cell_type": "code",
   "execution_count": null,
   "id": "a10fe036",
   "metadata": {},
   "outputs": [],
   "source": [
    "from collections import deque\n",
    "\n",
    "def is_palindrome(expr: str) -> bool:\n",
    "    queue = deque()\n",
    "    for ch in expr:\n",
    "        queue.append(ch)\n",
    "\n",
    "    while len(queue) > 1:\n",
    "        if queue.popleft() != queue.pop():\n",
    "            return False\n",
    "    return True\n",
    "\n",
    "# 테스트\n",
    "print(is_palindrome(\"wow\"))  # True\n",
    "print(is_palindrome(\"hello\"))  # False\n"
   ]
  },
  {
   "cell_type": "markdown",
   "id": "64e96f1d",
   "metadata": {},
   "source": [
    "### 문제 03"
   ]
  },
  {
   "cell_type": "code",
   "execution_count": null,
   "id": "5e02d155",
   "metadata": {},
   "outputs": [],
   "source": [
    "class Node:\n",
    "    def __init__(self, item, link=None):\n",
    "        self.item = item\n",
    "        self.next = link\n",
    "\n",
    "class LinkedQueue:\n",
    "    def __init__(self):\n",
    "        self.front = self.rear = None\n",
    "\n",
    "    def isEmpty(self):\n",
    "        return self.front is None\n",
    "\n",
    "    def enqueue(self, item):\n",
    "        node = Node(item)\n",
    "        if self.isEmpty():\n",
    "            self.front = self.rear = node\n",
    "        else:\n",
    "            self.rear.next = node\n",
    "            self.rear = node\n",
    "\n",
    "    def dequeue(self):\n",
    "        if not self.isEmpty():\n",
    "            item = self.front.item\n",
    "            self.front = self.front.next\n",
    "            if self.front is None:\n",
    "                self.rear = None\n",
    "            return item\n",
    "\n",
    "    def copy(self):\n",
    "        new_queue = LinkedQueue()\n",
    "        current = self.front\n",
    "        while current:\n",
    "            new_queue.enqueue(current.item)\n",
    "            current = current.next\n",
    "        return new_queue\n"
   ]
  },
  {
   "cell_type": "markdown",
   "id": "7c8fb3cf",
   "metadata": {},
   "source": [
    "### 문제 04"
   ]
  },
  {
   "cell_type": "code",
   "execution_count": null,
   "id": "56313b8f",
   "metadata": {},
   "outputs": [],
   "source": [
    "class StackQueue:\n",
    "    def __init__(self):\n",
    "        self.in_stack = []\n",
    "        self.out_stack = []\n",
    "\n",
    "    def enqueue(self, item):\n",
    "        self.in_stack.append(item)\n",
    "\n",
    "    def dequeue(self):\n",
    "        if not self.out_stack:\n",
    "            while self.in_stack:\n",
    "                self.out_stack.append(self.in_stack.pop())\n",
    "        if self.out_stack:\n",
    "            return self.out_stack.pop()\n"
   ]
  },
  {
   "cell_type": "markdown",
   "id": "348da4e0",
   "metadata": {},
   "source": [
    "### 문제 05"
   ]
  },
  {
   "cell_type": "code",
   "execution_count": null,
   "id": "92ca9efc",
   "metadata": {},
   "outputs": [],
   "source": [
    "# 동일한 방식으로 StackQueue 구현 (문제 04와 동일)\n",
    "# enqueue 시 in_stack에 push, dequeue 시 out_stack에서 pop\n"
   ]
  },
  {
   "cell_type": "markdown",
   "id": "9009e142",
   "metadata": {},
   "source": [
    "### 문제 06"
   ]
  },
  {
   "cell_type": "code",
   "execution_count": null,
   "id": "bafc8025",
   "metadata": {},
   "outputs": [],
   "source": [
    "# 리스트로 큐 구현 시\n",
    "# enqueue(): O(1) / dequeue(): O(n)\n",
    "# deque 사용 시\n",
    "# enqueue(): O(1) / dequeue(): O(1)\n"
   ]
  },
  {
   "cell_type": "markdown",
   "id": "12fa512a",
   "metadata": {},
   "source": [
    "### 문제 07"
   ]
  },
  {
   "cell_type": "code",
   "execution_count": null,
   "id": "c10a7927",
   "metadata": {},
   "outputs": [],
   "source": [
    "# 원형 연결 리스트를 사용하면 enqueue(), dequeue() 모두 O(1)\n"
   ]
  },
  {
   "cell_type": "markdown",
   "id": "47d379d7",
   "metadata": {},
   "source": [
    "### 문제 08"
   ]
  },
  {
   "cell_type": "code",
   "execution_count": null,
   "id": "19988938",
   "metadata": {},
   "outputs": [],
   "source": [
    "class Deque:\n",
    "    def __init__(self):\n",
    "        self.__queue = []\n",
    "\n",
    "    def add_front(self, x):\n",
    "        self.__queue.insert(0, x)\n",
    "\n",
    "    def add_rear(self, x):\n",
    "        self.__queue.append(x)\n",
    "\n",
    "    def delete_front(self):\n",
    "        if not self.isEmpty():\n",
    "            return self.__queue.pop(0)\n",
    "\n",
    "    def delete_rear(self):\n",
    "        if not self.isEmpty():\n",
    "            return self.__queue.pop()\n",
    "\n",
    "    def isEmpty(self):\n",
    "        return len(self.__queue) == 0\n",
    "\n",
    "    def printDeque(self):\n",
    "        print(\"Deque from front:\", end=' ')\n",
    "        for item in self.__queue:\n",
    "            print(item, end=' ')\n",
    "        print()\n"
   ]
  }
 ],
 "metadata": {},
 "nbformat": 4,
 "nbformat_minor": 5
}
